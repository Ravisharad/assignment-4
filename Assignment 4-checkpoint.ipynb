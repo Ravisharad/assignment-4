{
 "cells": [
  {
   "cell_type": "code",
   "execution_count": null,
   "id": "cfc560a7",
   "metadata": {},
   "outputs": [],
   "source": [
    "# 1. What exactly is []?\n",
    "It is used for array indexing operation"
   ]
  },
  {
   "cell_type": "code",
   "execution_count": null,
   "id": "d0ea1a05",
   "metadata": {},
   "outputs": [],
   "source": [
    "#2. In a list of values stored in a variable called spam, how would you assign the value 'hello' as the third value? (Assume [2, 4, 6, 8, 10] are in spam.)"
   ]
  },
  {
   "cell_type": "code",
   "execution_count": 8,
   "id": "1ef38a94",
   "metadata": {},
   "outputs": [],
   "source": [
    "spam = [2, 4, 6, 8, 10] "
   ]
  },
  {
   "cell_type": "code",
   "execution_count": 9,
   "id": "1a18bee4",
   "metadata": {},
   "outputs": [],
   "source": [
    "spam[3:4] = ['hello']"
   ]
  },
  {
   "cell_type": "code",
   "execution_count": 10,
   "id": "d1916b85",
   "metadata": {},
   "outputs": [
    {
     "data": {
      "text/plain": [
       "[2, 4, 6, 'hello', 10]"
      ]
     },
     "execution_count": 10,
     "metadata": {},
     "output_type": "execute_result"
    }
   ],
   "source": [
    "spam\n"
   ]
  },
  {
   "cell_type": "code",
   "execution_count": null,
   "id": "1b993575",
   "metadata": {},
   "outputs": [],
   "source": [
    "# q3  What is the value of spam[int(int('3' * 2) / 11)]?"
   ]
  },
  {
   "cell_type": "code",
   "execution_count": 11,
   "id": "79bca1d6",
   "metadata": {},
   "outputs": [],
   "source": [
    "spam = ['a', 'b', 'c', 'd']"
   ]
  },
  {
   "cell_type": "code",
   "execution_count": 12,
   "id": "7ca426de",
   "metadata": {},
   "outputs": [
    {
     "data": {
      "text/plain": [
       "'d'"
      ]
     },
     "execution_count": 12,
     "metadata": {},
     "output_type": "execute_result"
    }
   ],
   "source": [
    "spam[int(int('3' * 2) / 11)]"
   ]
  },
  {
   "cell_type": "code",
   "execution_count": null,
   "id": "2f2ff050",
   "metadata": {},
   "outputs": [],
   "source": [
    "# 4. What is the value of spam[-1]?"
   ]
  },
  {
   "cell_type": "code",
   "execution_count": 13,
   "id": "f7b320dc",
   "metadata": {},
   "outputs": [
    {
     "data": {
      "text/plain": [
       "'d'"
      ]
     },
     "execution_count": 13,
     "metadata": {},
     "output_type": "execute_result"
    }
   ],
   "source": [
    "spam[-1]"
   ]
  },
  {
   "cell_type": "code",
   "execution_count": null,
   "id": "acb7a5c9",
   "metadata": {},
   "outputs": [],
   "source": [
    "# 5. What is the value of spam[:2]?\n"
   ]
  },
  {
   "cell_type": "code",
   "execution_count": 14,
   "id": "4ad0d5ca",
   "metadata": {},
   "outputs": [
    {
     "data": {
      "text/plain": [
       "['a', 'b']"
      ]
     },
     "execution_count": 14,
     "metadata": {},
     "output_type": "execute_result"
    }
   ],
   "source": [
    "spam[:2]"
   ]
  },
  {
   "cell_type": "code",
   "execution_count": null,
   "id": "f14b0257",
   "metadata": {},
   "outputs": [],
   "source": [
    "# q6 What is the value of bacon.index('cat')?\n"
   ]
  },
  {
   "cell_type": "code",
   "execution_count": 17,
   "id": "4010fec2",
   "metadata": {},
   "outputs": [],
   "source": [
    "bacon = [3.14, 'cat', 11, 'cat', True]"
   ]
  },
  {
   "cell_type": "code",
   "execution_count": 18,
   "id": "d79c22f9",
   "metadata": {},
   "outputs": [
    {
     "data": {
      "text/plain": [
       "1"
      ]
     },
     "execution_count": 18,
     "metadata": {},
     "output_type": "execute_result"
    }
   ],
   "source": [
    "bacon.index('cat')"
   ]
  },
  {
   "cell_type": "code",
   "execution_count": null,
   "id": "cd335933",
   "metadata": {},
   "outputs": [],
   "source": [
    "# q 7 . How does bacon.append(99) change the look of the list value in bacon?"
   ]
  },
  {
   "cell_type": "code",
   "execution_count": 20,
   "id": "839164aa",
   "metadata": {},
   "outputs": [
    {
     "data": {
      "text/plain": [
       "[3.14, 'cat', 11, 'cat', True, 99]"
      ]
     },
     "execution_count": 20,
     "metadata": {},
     "output_type": "execute_result"
    }
   ],
   "source": [
    "bacon"
   ]
  },
  {
   "cell_type": "code",
   "execution_count": null,
   "id": "cebcafec",
   "metadata": {},
   "outputs": [],
   "source": [
    "#q8. How does bacon.remove('cat') change the look of the list in bacon?"
   ]
  },
  {
   "cell_type": "code",
   "execution_count": 22,
   "id": "0f7d52a8",
   "metadata": {},
   "outputs": [
    {
     "data": {
      "text/plain": [
       "[3.14, 11, True, 99]"
      ]
     },
     "execution_count": 22,
     "metadata": {},
     "output_type": "execute_result"
    }
   ],
   "source": [
    "bacon.remove('cat')\n",
    "bacon"
   ]
  },
  {
   "cell_type": "code",
   "execution_count": null,
   "id": "a517a49c",
   "metadata": {},
   "outputs": [],
   "source": [
    "# q 9. What are the list concatenation and list replication operators?"
   ]
  },
  {
   "cell_type": "code",
   "execution_count": null,
   "id": "ad6d5eb3",
   "metadata": {},
   "outputs": [],
   "source": [
    "'+' is used for list concatenation\n",
    "'*' is used for list replication operation"
   ]
  },
  {
   "cell_type": "code",
   "execution_count": null,
   "id": "94afd3fb",
   "metadata": {},
   "outputs": [],
   "source": [
    "#10 10. What is difference between the list methods append() and insert()?"
   ]
  },
  {
   "cell_type": "code",
   "execution_count": 23,
   "id": "3a525107",
   "metadata": {},
   "outputs": [],
   "source": [
    "tom = [1,2,3,4,5]"
   ]
  },
  {
   "cell_type": "code",
   "execution_count": 25,
   "id": "37a1494a",
   "metadata": {},
   "outputs": [
    {
     "data": {
      "text/plain": [
       "[1, 2, 3, 4, 5, 45, 45]"
      ]
     },
     "execution_count": 25,
     "metadata": {},
     "output_type": "execute_result"
    }
   ],
   "source": [
    "tom.append(45)\n",
    "tom\n",
    "# using append we can add element to list at end only"
   ]
  },
  {
   "cell_type": "code",
   "execution_count": 28,
   "id": "ff96d892",
   "metadata": {},
   "outputs": [
    {
     "data": {
      "text/plain": [
       "[1, 2, 3, 99, 99, 4, 5, 45, 45]"
      ]
     },
     "execution_count": 28,
     "metadata": {},
     "output_type": "execute_result"
    }
   ],
   "source": [
    "tom.insert(3,99)\n",
    "tom\n",
    "# using insert we can add an element to a position of choice"
   ]
  },
  {
   "cell_type": "code",
   "execution_count": null,
   "id": "7614f7a8",
   "metadata": {},
   "outputs": [],
   "source": [
    "# 11 What are the two methods for removing items from a list?"
   ]
  },
  {
   "cell_type": "code",
   "execution_count": 29,
   "id": "51fa4f28",
   "metadata": {},
   "outputs": [],
   "source": [
    "tl = ['ak','bc','dc','klr','mba']\n",
    "pop and remove methods can be used for removing an element from list"
   ]
  },
  {
   "cell_type": "code",
   "execution_count": 30,
   "id": "b4a2acd5",
   "metadata": {},
   "outputs": [],
   "source": [
    "tl.remove('dc')"
   ]
  },
  {
   "cell_type": "code",
   "execution_count": 31,
   "id": "9893b7b3",
   "metadata": {},
   "outputs": [
    {
     "data": {
      "text/plain": [
       "['ak', 'bc', 'klr', 'mba']"
      ]
     },
     "execution_count": 31,
     "metadata": {},
     "output_type": "execute_result"
    }
   ],
   "source": [
    "tl"
   ]
  },
  {
   "cell_type": "code",
   "execution_count": 32,
   "id": "3f853e8d",
   "metadata": {},
   "outputs": [
    {
     "data": {
      "text/plain": [
       "'ak'"
      ]
     },
     "execution_count": 32,
     "metadata": {},
     "output_type": "execute_result"
    }
   ],
   "source": [
    "tl.pop(0)"
   ]
  },
  {
   "cell_type": "code",
   "execution_count": 33,
   "id": "d8b2fa1b",
   "metadata": {},
   "outputs": [
    {
     "data": {
      "text/plain": [
       "['bc', 'klr', 'mba']"
      ]
     },
     "execution_count": 33,
     "metadata": {},
     "output_type": "execute_result"
    }
   ],
   "source": [
    "tl"
   ]
  },
  {
   "cell_type": "code",
   "execution_count": null,
   "id": "9971ab73",
   "metadata": {},
   "outputs": [],
   "source": [
    "#12  Describe how list values and string values are identical."
   ]
  },
  {
   "cell_type": "code",
   "execution_count": null,
   "id": "d22ebd03",
   "metadata": {},
   "outputs": [],
   "source": [
    "List & string have length\n",
    "list & string have unique position for every element\n",
    "both have enetities in sequence"
   ]
  },
  {
   "cell_type": "code",
   "execution_count": null,
   "id": "a86c7bf8",
   "metadata": {},
   "outputs": [],
   "source": [
    "#13. What's the difference between tuples and lists?"
   ]
  },
  {
   "cell_type": "code",
   "execution_count": null,
   "id": "7bfb9d24",
   "metadata": {},
   "outputs": [],
   "source": [
    "Tuples are immmutable (they cannot be chnaged), here elements enclosed in ()\n",
    "lists are mutable( they can be modified), here elements are enclosed in []"
   ]
  },
  {
   "cell_type": "code",
   "execution_count": null,
   "id": "5060a2da",
   "metadata": {},
   "outputs": [],
   "source": [
    "# 14 How do you type a tuple value that only contains the integer 42?"
   ]
  },
  {
   "cell_type": "code",
   "execution_count": 34,
   "id": "bf2af32f",
   "metadata": {},
   "outputs": [],
   "source": [
    "tupl = (42) "
   ]
  },
  {
   "cell_type": "code",
   "execution_count": 35,
   "id": "d846ea6c",
   "metadata": {},
   "outputs": [
    {
     "data": {
      "text/plain": [
       "42"
      ]
     },
     "execution_count": 35,
     "metadata": {},
     "output_type": "execute_result"
    }
   ],
   "source": [
    "tupl"
   ]
  },
  {
   "cell_type": "code",
   "execution_count": null,
   "id": "1be286d9",
   "metadata": {},
   "outputs": [],
   "source": [
    "#15. How do you get a list value's tuple form? How do you get a tuple value's list form?"
   ]
  },
  {
   "cell_type": "code",
   "execution_count": 36,
   "id": "6e086a35",
   "metadata": {},
   "outputs": [],
   "source": [
    "l= ['a','b','c','d','e']"
   ]
  },
  {
   "cell_type": "code",
   "execution_count": 38,
   "id": "15fd78ab",
   "metadata": {},
   "outputs": [],
   "source": [
    "b = tuple(l)"
   ]
  },
  {
   "cell_type": "code",
   "execution_count": 39,
   "id": "a43f1cfa",
   "metadata": {},
   "outputs": [
    {
     "data": {
      "text/plain": [
       "('a', 'b', 'c', 'd', 'e')"
      ]
     },
     "execution_count": 39,
     "metadata": {},
     "output_type": "execute_result"
    }
   ],
   "source": [
    "b"
   ]
  },
  {
   "cell_type": "code",
   "execution_count": 40,
   "id": "3498f7cf",
   "metadata": {},
   "outputs": [
    {
     "data": {
      "text/plain": [
       "['a', 'b', 'c', 'd', 'e']"
      ]
     },
     "execution_count": 40,
     "metadata": {},
     "output_type": "execute_result"
    }
   ],
   "source": [
    "list(b)"
   ]
  },
  {
   "cell_type": "code",
   "execution_count": null,
   "id": "edd4cdbd",
   "metadata": {},
   "outputs": [],
   "source": [
    "# 16. Variables that \"contain\" list values are not necessarily lists themselves. Instead, what do they contain?"
   ]
  },
  {
   "cell_type": "code",
   "execution_count": null,
   "id": "94120b2d",
   "metadata": {},
   "outputs": [],
   "source": [
    "They have variables to list values"
   ]
  },
  {
   "cell_type": "code",
   "execution_count": null,
   "id": "b113fafc",
   "metadata": {},
   "outputs": [],
   "source": [
    "# 17 How do you distinguish between copy.copy() and copy.deepcopy()?"
   ]
  },
  {
   "cell_type": "code",
   "execution_count": 43,
   "id": "e4b0fa9e",
   "metadata": {},
   "outputs": [],
   "source": [
    "import copy\n",
    "#changes made in original copy are reflected in shallow copy (copy.copy) but it is not the case in deep copy."
   ]
  },
  {
   "cell_type": "code",
   "execution_count": 41,
   "id": "b7a9a171",
   "metadata": {},
   "outputs": [],
   "source": [
    "alist = [[1,2,4],[4,5,6,],[7,8,9]]"
   ]
  },
  {
   "cell_type": "code",
   "execution_count": 44,
   "id": "c2e9cf1a",
   "metadata": {},
   "outputs": [],
   "source": [
    "check =  copy.copy(alist)"
   ]
  },
  {
   "cell_type": "code",
   "execution_count": 45,
   "id": "2abf2b7e",
   "metadata": {},
   "outputs": [
    {
     "data": {
      "text/plain": [
       "[[1, 2, 4], [4, 5, 6], [7, 8, 9]]"
      ]
     },
     "execution_count": 45,
     "metadata": {},
     "output_type": "execute_result"
    }
   ],
   "source": [
    "check"
   ]
  },
  {
   "cell_type": "code",
   "execution_count": 46,
   "id": "8d1a3519",
   "metadata": {},
   "outputs": [],
   "source": [
    "alist[0][1] = 'n'"
   ]
  },
  {
   "cell_type": "code",
   "execution_count": 47,
   "id": "598cab8d",
   "metadata": {},
   "outputs": [
    {
     "data": {
      "text/plain": [
       "[[1, 'n', 4], [4, 5, 6], [7, 8, 9]]"
      ]
     },
     "execution_count": 47,
     "metadata": {},
     "output_type": "execute_result"
    }
   ],
   "source": [
    "check"
   ]
  },
  {
   "cell_type": "code",
   "execution_count": 48,
   "id": "6c92ce06",
   "metadata": {},
   "outputs": [],
   "source": [
    "dcheck = copy.deepcopy(alist)"
   ]
  },
  {
   "cell_type": "code",
   "execution_count": 49,
   "id": "103f8440",
   "metadata": {},
   "outputs": [
    {
     "data": {
      "text/plain": [
       "[[1, 'n', 4], [4, 5, 6], [7, 8, 9]]"
      ]
     },
     "execution_count": 49,
     "metadata": {},
     "output_type": "execute_result"
    }
   ],
   "source": [
    "dcheck"
   ]
  },
  {
   "cell_type": "code",
   "execution_count": 50,
   "id": "39f70fe1",
   "metadata": {},
   "outputs": [],
   "source": [
    "alist[0][2] = 'z'"
   ]
  },
  {
   "cell_type": "code",
   "execution_count": 51,
   "id": "f5e8ba91",
   "metadata": {},
   "outputs": [
    {
     "data": {
      "text/plain": [
       "[[1, 'n', 4], [4, 5, 6], [7, 8, 9]]"
      ]
     },
     "execution_count": 51,
     "metadata": {},
     "output_type": "execute_result"
    }
   ],
   "source": [
    "dcheck"
   ]
  },
  {
   "cell_type": "code",
   "execution_count": null,
   "id": "2651f005",
   "metadata": {},
   "outputs": [],
   "source": []
  }
 ],
 "metadata": {
  "kernelspec": {
   "display_name": "Python 3",
   "language": "python",
   "name": "python3"
  },
  "language_info": {
   "codemirror_mode": {
    "name": "ipython",
    "version": 3
   },
   "file_extension": ".py",
   "mimetype": "text/x-python",
   "name": "python",
   "nbconvert_exporter": "python",
   "pygments_lexer": "ipython3",
   "version": "3.8.8"
  }
 },
 "nbformat": 4,
 "nbformat_minor": 5
}
